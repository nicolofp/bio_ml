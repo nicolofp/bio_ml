{
 "cells": [
  {
   "cell_type": "markdown",
   "id": "d9d767d4",
   "metadata": {},
   "source": [
    "# ML test\n",
    "---"
   ]
  },
  {
   "cell_type": "code",
   "execution_count": null,
   "id": "20307b96",
   "metadata": {},
   "outputs": [],
   "source": [
    "# !pip install pyarrow\n",
    "# mirna.columns\n",
    "# mirna.info()\n",
    "# mirna.describe()\n",
    "# mirna = mirna.dropna()"
   ]
  },
  {
   "cell_type": "code",
   "execution_count": 199,
   "id": "15892822",
   "metadata": {},
   "outputs": [],
   "source": [
    "import pandas as pd\n",
    "import numpy as np\n",
    "import pyarrow.feather as pa\n",
    "import s3_access #file with all the key for S3"
   ]
  },
  {
   "cell_type": "code",
   "execution_count": 200,
   "id": "2d719f9f",
   "metadata": {},
   "outputs": [
    {
     "data": {
      "text/plain": [
       "[<FileInfo for 'envbran/methylation/GSE117064_mirna.arrow': type=FileType.File, size=17661274>,\n",
       " <FileInfo for 'envbran/methylation/GSE117064_pheno.arrow': type=FileType.File, size=146786>,\n",
       " <FileInfo for 'envbran/methylation/GSE216997_mirna.arrow': type=FileType.File, size=1140522>,\n",
       " <FileInfo for 'envbran/methylation/GSE216997_pheno.arrow': type=FileType.File, size=11250>]"
      ]
     },
     "execution_count": 200,
     "metadata": {},
     "output_type": "execute_result"
    }
   ],
   "source": [
    "s3.get_file_info(ft.FileSelector('envbran/methylation/', recursive = True))"
   ]
  },
  {
   "cell_type": "code",
   "execution_count": 201,
   "id": "c6ea168d",
   "metadata": {},
   "outputs": [],
   "source": [
    "a = s3.open_input_file('envbran/methylation/GSE117064_mirna.arrow')\n",
    "b = s3.open_input_file('envbran/methylation/GSE117064_pheno.arrow')\n",
    "pheno = pa.read_feather(b)\n",
    "mirna = pa.read_feather(a)"
   ]
  },
  {
   "cell_type": "code",
   "execution_count": 148,
   "id": "3fc8e7f1",
   "metadata": {},
   "outputs": [],
   "source": [
    "DT = pheno.loc[pheno.class_label == 1]"
   ]
  },
  {
   "cell_type": "code",
   "execution_count": 149,
   "id": "bcab918e",
   "metadata": {},
   "outputs": [
    {
     "data": {
      "text/plain": [
       "CVD patient        173\n",
       "Non-CVD control    173\n",
       "Name: source_name_ch1, dtype: int64"
      ]
     },
     "execution_count": 149,
     "metadata": {},
     "output_type": "execute_result"
    }
   ],
   "source": [
    "DT.source_name_ch1.value_counts()"
   ]
  },
  {
   "cell_type": "code",
   "execution_count": 150,
   "id": "ac9c8700",
   "metadata": {},
   "outputs": [],
   "source": [
    "mirna = mirna.set_index('rn').unstack().unstack().reset_index().rename_axis(columns=None)\n",
    "mirna = mirna.rename(columns={'index': 'geo_accession'});"
   ]
  },
  {
   "cell_type": "code",
   "execution_count": 151,
   "id": "0519d264",
   "metadata": {},
   "outputs": [
    {
     "data": {
      "text/plain": [
       "Index(['title', 'geo_accession', 'source_name_ch1', 'organism_ch1', 'relation',\n",
       "       'age:ch1', 'bmi:ch1', 'diastolic bp:ch1', 'group:ch1', 'hb-a1c:ch1',\n",
       "       'Sex:ch1', 'smoking:ch1', 'systolic bp:ch1', 'tissue:ch1', 'diagnosis',\n",
       "       'class_label'],\n",
       "      dtype='object')"
      ]
     },
     "execution_count": 151,
     "metadata": {},
     "output_type": "execute_result"
    }
   ],
   "source": [
    "DT.columns"
   ]
  },
  {
   "cell_type": "code",
   "execution_count": 152,
   "id": "383ea017",
   "metadata": {},
   "outputs": [],
   "source": [
    "DT = DT[['geo_accession','source_name_ch1','age:ch1','Sex:ch1']] # select only some columns"
   ]
  },
  {
   "cell_type": "code",
   "execution_count": 153,
   "id": "257ebc71",
   "metadata": {},
   "outputs": [],
   "source": [
    "DT = pd.merge(DT, mirna, on = \"geo_accession\")"
   ]
  },
  {
   "cell_type": "markdown",
   "id": "c67ac6f2",
   "metadata": {},
   "source": [
    "### LASSO regression\n",
    "\n",
    "Lasso regression, short for Least Absolute Shrinkage and Selection Operator, is a linear regression technique that incorporates L1 regularization. In standard linear regression, the objective is to minimize the sum of squared residuals. Lasso regression, on the other hand, adds a penalty term to the objective function, which is proportional to the absolute values of the regression coefficients.\n",
    "\n",
    "The objective function for lasso regression can be expressed as:\n",
    "\n",
    "$$ \\min\\limits_{\\beta_0,\\beta_j} \\frac{1}{2n} \\sum_{i=1}^{n} (y_i - \\beta_0 - \\sum_{j=1}^{p} \\beta_j x_{ij})^2 + \\lambda \\sum_{j=1}^{p} |\\beta_j| $$\n",
    "\n",
    "Here:\n",
    "- $n$ is the number of observations.\n",
    "- $p$ is the number of features.\n",
    "- $y_i$ is the target variable for the $i$-th observation.\n",
    "- $ x_{ij} $ is the $j$-th feature for the $i$-th observation.\n",
    "- $ \\beta_0, \\beta_1, ..., \\beta_p $ are the regression coefficients.\n",
    "- $ \\lambda $ is the regularization parameter that controls the strength of the penalty term.\n",
    "\n",
    "The term $ \\lambda \\sum_{j=1}^{p} |\\beta_j| $ is the L1 penalty term. The use of this penalty encourages the model to have sparse coefficients, effectively performing feature selection by pushing some coefficients to exactly zero. This can be useful in situations where there are many features, and some of them may not contribute significantly to the predictive power of the model.\n",
    "\n",
    "Lasso regression is particularly beneficial when dealing with high-dimensional data or situations where feature selection is important. It helps prevent overfitting and can lead to a more interpretable and parsimonious model."
   ]
  },
  {
   "cell_type": "code",
   "execution_count": 216,
   "id": "545909b5",
   "metadata": {},
   "outputs": [],
   "source": [
    "from sklearn.model_selection import train_test_split\n",
    "from sklearn.preprocessing import OneHotEncoder\n",
    "from sklearn.linear_model import LogisticRegression\n",
    "from sklearn.metrics import confusion_matrix"
   ]
  },
  {
   "cell_type": "code",
   "execution_count": 184,
   "id": "335691f8",
   "metadata": {},
   "outputs": [],
   "source": [
    "enc = OneHotEncoder(drop='first').fit(DT[['Sex:ch1']])"
   ]
  },
  {
   "cell_type": "code",
   "execution_count": 187,
   "id": "1d0d697c",
   "metadata": {},
   "outputs": [],
   "source": [
    "DT[['Sex:ch1']] = enc.transform(DT[['Sex:ch1']]).toarray()"
   ]
  },
  {
   "cell_type": "code",
   "execution_count": 218,
   "id": "0568ea75",
   "metadata": {},
   "outputs": [],
   "source": [
    "X = DT.drop(['geo_accession','source_name_ch1'],axis=1)\n",
    "y = DT['source_name_ch1']\n",
    "X_train, X_test, y_train, y_test = train_test_split(X, y, test_size=0.25, random_state=561)"
   ]
  },
  {
   "cell_type": "code",
   "execution_count": 219,
   "id": "ef571037",
   "metadata": {},
   "outputs": [],
   "source": [
    "lasso_model = LogisticRegression(random_state=0, max_iter=10000).fit(X_train, y_train)"
   ]
  },
  {
   "cell_type": "code",
   "execution_count": 220,
   "id": "7a4a2f65",
   "metadata": {},
   "outputs": [
    {
     "data": {
      "text/plain": [
       "0.9770114942528736"
      ]
     },
     "execution_count": 220,
     "metadata": {},
     "output_type": "execute_result"
    }
   ],
   "source": [
    "# Add cross-validation + parameters tuning\n",
    "# lasso_model.coef_\n",
    "lasso_model.predict(X_test)\n",
    "lasso_model.score(X_test,y_test)"
   ]
  },
  {
   "cell_type": "code",
   "execution_count": 221,
   "id": "07d50300",
   "metadata": {},
   "outputs": [],
   "source": [
    "# Create dataframe with \n",
    "# d = {'pred':  lasso_model.predict(X_test), 'actual': y_test}\n",
    "# df = pd.DataFrame(data=d)"
   ]
  },
  {
   "cell_type": "code",
   "execution_count": 222,
   "id": "c08e2913",
   "metadata": {},
   "outputs": [
    {
     "data": {
      "text/plain": [
       "array([[42,  2],\n",
       "       [ 0, 43]], dtype=int64)"
      ]
     },
     "execution_count": 222,
     "metadata": {},
     "output_type": "execute_result"
    }
   ],
   "source": [
    "confusion_matrix(y_test,lasso_model.predict(X_test))"
   ]
  }
 ],
 "metadata": {
  "kernelspec": {
   "display_name": "Python 3",
   "language": "python",
   "name": "python3"
  },
  "language_info": {
   "codemirror_mode": {
    "name": "ipython",
    "version": 3
   },
   "file_extension": ".py",
   "mimetype": "text/x-python",
   "name": "python",
   "nbconvert_exporter": "python",
   "pygments_lexer": "ipython3",
   "version": "3.8.8"
  }
 },
 "nbformat": 4,
 "nbformat_minor": 5
}
