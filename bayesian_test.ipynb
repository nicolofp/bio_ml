{
 "cells": [
  {
   "cell_type": "code",
   "execution_count": 3,
   "id": "b216ebd8",
   "metadata": {},
   "outputs": [],
   "source": [
    "#!pip install pymc3"
   ]
  },
  {
   "cell_type": "code",
   "execution_count": 28,
   "id": "a18a2aed",
   "metadata": {},
   "outputs": [
    {
     "name": "stdout",
     "output_type": "stream",
     "text": [
      "Running on PyMC3 v3.11.5\n"
     ]
    }
   ],
   "source": [
    "import pandas as pd\n",
    "import numpy as np\n",
    "import pymc3 as pm\n",
    "print(f\"Running on PyMC3 v{pm.__version__}\")"
   ]
  },
  {
   "cell_type": "code",
   "execution_count": 108,
   "id": "640e8f49",
   "metadata": {},
   "outputs": [],
   "source": [
    "# True parameter values\n",
    "alpha, sigma = 1, 1\n",
    "beta = [1, 2.5]\n",
    "\n",
    "# Size of dataset\n",
    "size = 100\n",
    "\n",
    "# Predictor variable\n",
    "X1 = np.random.randn(size)\n",
    "X2 = np.random.randn(size) * 0.2\n",
    "\n",
    "# Simulate outcome variable\n",
    "Y = alpha + beta[0] * X1 + beta[1] * X2 + np.random.randn(size) * sigma"
   ]
  },
  {
   "cell_type": "code",
   "execution_count": 4,
   "id": "ee5c7b80",
   "metadata": {},
   "outputs": [],
   "source": [
    "basic_model = pm.Model()\n",
    "\n",
    "with basic_model:\n",
    "\n",
    "    # Priors for unknown model parameters\n",
    "    alpha = pm.Normal(\"alpha\", mu=0, sigma=10)\n",
    "    beta = pm.Normal(\"beta\", mu=0, sigma=10, shape=2)\n",
    "    sigma = pm.HalfNormal(\"sigma\", sigma=1)\n",
    "\n",
    "    # Expected value of outcome\n",
    "    mu = alpha + beta[0] * X1 + beta[1] * X2\n",
    "\n",
    "    # Likelihood (sampling distribution) of observations\n",
    "    Y_obs = pm.Normal(\"Y_obs\", mu=mu, sigma=sigma, observed=Y)"
   ]
  },
  {
   "cell_type": "code",
   "execution_count": 8,
   "id": "62e3dc55",
   "metadata": {},
   "outputs": [
    {
     "data": {
      "text/html": [
       "\n",
       "    <div>\n",
       "        <style>\n",
       "            /* Turns off some styling */\n",
       "            progress {\n",
       "                /* gets rid of default border in Firefox and Opera. */\n",
       "                border: none;\n",
       "                /* Needs to be in here for Safari polyfill so background images work as expected. */\n",
       "                background-size: auto;\n",
       "            }\n",
       "            .progress-bar-interrupted, .progress-bar-interrupted::-webkit-progress-bar {\n",
       "                background: #F44336;\n",
       "            }\n",
       "        </style>\n",
       "      <progress value='20' class='' max='20' style='width:300px; height:20px; vertical-align: middle;'></progress>\n",
       "      100.00% [20/20 00:00<00:00 logp = -158.62, ||grad|| = 19.956]\n",
       "    </div>\n",
       "    "
      ],
      "text/plain": [
       "<IPython.core.display.HTML object>"
      ]
     },
     "metadata": {},
     "output_type": "display_data"
    },
    {
     "name": "stdout",
     "output_type": "stream",
     "text": [
      "\n"
     ]
    },
    {
     "data": {
      "text/plain": [
       "{'alpha': array(0.87558617),\n",
       " 'beta': array([1.18966251, 3.57038781]),\n",
       " 'sigma_log__': array(-0.08436807),\n",
       " 'sigma': array(0.9190929)}"
      ]
     },
     "execution_count": 8,
     "metadata": {},
     "output_type": "execute_result"
    }
   ],
   "source": [
    "map_estimate = pm.find_MAP(model=basic_model)\n",
    "map_estimate"
   ]
  },
  {
   "cell_type": "code",
   "execution_count": 11,
   "id": "8d46aac5",
   "metadata": {},
   "outputs": [
    {
     "name": "stderr",
     "output_type": "stream",
     "text": [
      "Auto-assigning NUTS sampler...\n",
      "Initializing NUTS using jitter+adapt_diag...\n",
      "Multiprocess sampling (4 chains in 4 jobs)\n",
      "NUTS: [sigma, beta, alpha]\n"
     ]
    },
    {
     "data": {
      "text/html": [
       "\n",
       "    <div>\n",
       "        <style>\n",
       "            /* Turns off some styling */\n",
       "            progress {\n",
       "                /* gets rid of default border in Firefox and Opera. */\n",
       "                border: none;\n",
       "                /* Needs to be in here for Safari polyfill so background images work as expected. */\n",
       "                background-size: auto;\n",
       "            }\n",
       "            .progress-bar-interrupted, .progress-bar-interrupted::-webkit-progress-bar {\n",
       "                background: #F44336;\n",
       "            }\n",
       "        </style>\n",
       "      <progress value='12000' class='' max='12000' style='width:300px; height:20px; vertical-align: middle;'></progress>\n",
       "      100.00% [12000/12000 00:06<00:00 Sampling 4 chains, 0 divergences]\n",
       "    </div>\n",
       "    "
      ],
      "text/plain": [
       "<IPython.core.display.HTML object>"
      ]
     },
     "metadata": {},
     "output_type": "display_data"
    },
    {
     "name": "stderr",
     "output_type": "stream",
     "text": [
      "Sampling 4 chains for 1_000 tune and 2_000 draw iterations (4_000 + 8_000 draws total) took 25 seconds.\n"
     ]
    }
   ],
   "source": [
    "with basic_model:\n",
    "    # draw 500 posterior samples\n",
    "    trace = pm.sample(2000, return_inferencedata=False)"
   ]
  },
  {
   "cell_type": "code",
   "execution_count": 27,
   "id": "6ecfeae8",
   "metadata": {},
   "outputs": [
    {
     "data": {
      "text/plain": [
       "array([[0.90127417, 1.27490666],\n",
       "       [0.94235057, 2.86501573],\n",
       "       [0.99859892, 2.39862491],\n",
       "       ...,\n",
       "       [0.7467961 , 2.32236062],\n",
       "       [0.84382038, 2.82317467],\n",
       "       [1.03732029, 1.66527842]])"
      ]
     },
     "execution_count": 27,
     "metadata": {},
     "output_type": "execute_result"
    }
   ],
   "source": [
    "trace[\"beta\"]"
   ]
  },
  {
   "cell_type": "code",
   "execution_count": 15,
   "id": "622409c5",
   "metadata": {},
   "outputs": [
    {
     "data": {
      "text/plain": [
       "array([0.78374864, 0.81936746, 1.14192798, 2.84393346, 3.01718768])"
      ]
     },
     "execution_count": 15,
     "metadata": {},
     "output_type": "execute_result"
    }
   ],
   "source": [
    "np.quantile(trace[\"beta\"],[0.025,0.05,0.5,0.95,0.975])\n",
    "#Y = alpha + pm.math.dot(X, beta)"
   ]
  },
  {
   "cell_type": "code",
   "execution_count": 218,
   "id": "c50567d9",
   "metadata": {},
   "outputs": [],
   "source": [
    "# True parameter values\n",
    "beta0, sigma = 1.1, 1\n",
    "beta1 = -0.89\n",
    "w = np.array([0.5, 0.20, 0.20, 0.05, 0.05])\n",
    "delta = [-0.7, 0.3]\n",
    "\n",
    "# Size of dataset\n",
    "size = 236"
   ]
  },
  {
   "cell_type": "code",
   "execution_count": 219,
   "id": "28ea256d",
   "metadata": {},
   "outputs": [],
   "source": [
    "# Predictor variable\n",
    "X = np.random.randn(size,5)\n",
    "bwqs = np.dot(X,w)"
   ]
  },
  {
   "cell_type": "code",
   "execution_count": 220,
   "id": "0124e7ba",
   "metadata": {},
   "outputs": [],
   "source": [
    "age = np.random.uniform(18,41, size)\n",
    "gage = np.random.uniform(34,42, size)\n",
    "\n",
    "# Simulate outcome variable\n",
    "Y = beta0 + beta1 * bwqs + delta[0] * age + delta[1] * gage + np.random.randn(size) * sigma"
   ]
  },
  {
   "cell_type": "code",
   "execution_count": 223,
   "id": "994c5e38",
   "metadata": {},
   "outputs": [],
   "source": [
    "bwqs_model = pm.Model()\n",
    "\n",
    "with bwqs_model:\n",
    "\n",
    "    # Priors for unknown model parameters\n",
    "    beta0 = pm.Normal(\"beta0\", mu=0, sigma=10)\n",
    "    beta1 = pm.Normal(\"beta1\", mu=0, sigma=10)\n",
    "    delta = pm.Normal(\"delta\", mu=0, sigma=10, shape=2)\n",
    "    w_dir = pm.Dirichlet(\"w_dir\", a=np.ones(5))\n",
    "    sigma = pm.HalfNormal(\"sigma\", sigma=1)\n",
    "\n",
    "    # Expected value of outcome\n",
    "    bwqs = pm.math.dot(X,w_dir)\n",
    "    mu = beta0 + beta1 * bwqs + delta[0] * age + delta[1] * gage\n",
    "\n",
    "    # Likelihood (sampling distribution) of observations\n",
    "    Y_obs = pm.Normal(\"Y_obs\", mu=mu, sigma=sigma, observed=Y)"
   ]
  },
  {
   "cell_type": "code",
   "execution_count": 224,
   "id": "c6db686e",
   "metadata": {},
   "outputs": [
    {
     "name": "stderr",
     "output_type": "stream",
     "text": [
      "Auto-assigning NUTS sampler...\n",
      "Initializing NUTS using jitter+adapt_diag...\n",
      "Multiprocess sampling (4 chains in 4 jobs)\n",
      "NUTS: [sigma, w_dir, delta, beta1, beta0]\n"
     ]
    },
    {
     "data": {
      "text/html": [
       "\n",
       "    <div>\n",
       "        <style>\n",
       "            /* Turns off some styling */\n",
       "            progress {\n",
       "                /* gets rid of default border in Firefox and Opera. */\n",
       "                border: none;\n",
       "                /* Needs to be in here for Safari polyfill so background images work as expected. */\n",
       "                background-size: auto;\n",
       "            }\n",
       "            .progress-bar-interrupted, .progress-bar-interrupted::-webkit-progress-bar {\n",
       "                background: #F44336;\n",
       "            }\n",
       "        </style>\n",
       "      <progress value='12000' class='' max='12000' style='width:300px; height:20px; vertical-align: middle;'></progress>\n",
       "      100.00% [12000/12000 01:01<00:00 Sampling 4 chains, 0 divergences]\n",
       "    </div>\n",
       "    "
      ],
      "text/plain": [
       "<IPython.core.display.HTML object>"
      ]
     },
     "metadata": {},
     "output_type": "display_data"
    },
    {
     "name": "stderr",
     "output_type": "stream",
     "text": [
      "Sampling 4 chains for 1_000 tune and 2_000 draw iterations (4_000 + 8_000 draws total) took 84 seconds.\n",
      "The acceptance probability does not match the target. It is 0.8789071336547054, but should be close to 0.8. Try to increase the number of tuning steps.\n",
      "The acceptance probability does not match the target. It is 0.8806714549908061, but should be close to 0.8. Try to increase the number of tuning steps.\n"
     ]
    }
   ],
   "source": [
    "with bwqs_model:\n",
    "    # draw 2000 posterior samples\n",
    "    trace = pm.sample(2000, return_inferencedata=False)"
   ]
  },
  {
   "cell_type": "code",
   "execution_count": 225,
   "id": "b2244c18",
   "metadata": {},
   "outputs": [
    {
     "data": {
      "text/plain": [
       "-1.1125873194671472"
      ]
     },
     "execution_count": 225,
     "metadata": {},
     "output_type": "execute_result"
    }
   ],
   "source": [
    "trace[\"beta1\"].mean()"
   ]
  },
  {
   "cell_type": "code",
   "execution_count": 226,
   "id": "3c46e757",
   "metadata": {},
   "outputs": [
    {
     "data": {
      "text/plain": [
       "array([-1.39186441, -1.3465384 , -1.11185135, -0.88218768, -0.83874031])"
      ]
     },
     "execution_count": 226,
     "metadata": {},
     "output_type": "execute_result"
    }
   ],
   "source": [
    "np.quantile(trace[\"beta1\"],[0.025,0.05,0.5,0.95,0.975])"
   ]
  }
 ],
 "metadata": {
  "kernelspec": {
   "display_name": "Python 3",
   "language": "python",
   "name": "python3"
  },
  "language_info": {
   "codemirror_mode": {
    "name": "ipython",
    "version": 3
   },
   "file_extension": ".py",
   "mimetype": "text/x-python",
   "name": "python",
   "nbconvert_exporter": "python",
   "pygments_lexer": "ipython3",
   "version": "3.8.8"
  }
 },
 "nbformat": 4,
 "nbformat_minor": 5
}
